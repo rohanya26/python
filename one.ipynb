{
 "metadata": {
  "language_info": {
   "codemirror_mode": {
    "name": "ipython",
    "version": 3
   },
   "file_extension": ".py",
   "mimetype": "text/x-python",
   "name": "python",
   "nbconvert_exporter": "python",
   "pygments_lexer": "ipython3",
   "version": "3.9.6"
  },
  "orig_nbformat": 4,
  "kernelspec": {
   "name": "python3",
   "display_name": "Python 3.9.6 64-bit"
  },
  "interpreter": {
   "hash": "d782136b9e9a436da26077f13fdb17479c0113b3e06e3815ca9096f977546bc4"
  }
 },
 "nbformat": 4,
 "nbformat_minor": 2,
 "cells": [
  {
   "cell_type": "code",
   "execution_count": 1,
   "metadata": {},
   "outputs": [
    {
     "output_type": "stream",
     "name": "stdout",
     "text": [
      "hello world\n"
     ]
    }
   ],
   "source": [
    "print(\"hello world\")"
   ]
  },
  {
   "cell_type": "code",
   "execution_count": 4,
   "metadata": {},
   "outputs": [
    {
     "output_type": "stream",
     "name": "stdout",
     "text": [
      "221\n240\n10\n99\n"
     ]
    }
   ],
   "source": [
    "cats=99\n",
    "dogs=101\n",
    "chips=cats\n",
    "cats=120\n",
    "print(cats + dogs)\n",
    "print(cats * 2)\n",
    "print(dogs //10)\n",
    "print (chips)"
   ]
  },
  {
   "cell_type": "code",
   "execution_count": 11,
   "metadata": {},
   "outputs": [
    {
     "output_type": "stream",
     "name": "stdout",
     "text": [
      "how many kilometers you ran today\n",
      "okay , you ran 5.0 miles today\n"
     ]
    }
   ],
   "source": [
    "print(\"how many kilometers you ran today\")\n",
    "kms = float(input())\n",
    "miles=kms/1.6\n",
    "print(f\"okay , you ran {round(miles,2)} miles today\" )"
   ]
  },
  {
   "cell_type": "code",
   "execution_count": 9,
   "metadata": {},
   "outputs": [
    {
     "output_type": "stream",
     "name": "stdout",
     "text": [
      "enter something\n"
     ]
    }
   ],
   "source": [
    "age=input(\"Enter Your Age\")\n",
    "if age!=\"\":\n",
    " if int(age>=18) and int(age<=21):\n",
    "    print(\"wear Wristbands\")\n",
    " elif int(age>21):\n",
    "    print(\"This is a normal entry,You can Drink\")\n",
    " else:\n",
    "     print(\"Too young, sorry\")\n",
    "else:\n",
    "    print(\"enter something\")     \n",
    "\n"
   ]
  },
  {
   "cell_type": "code",
   "execution_count": 11,
   "metadata": {},
   "outputs": [
    {
     "output_type": "stream",
     "name": "stdout",
     "text": [
      "Rock...\n",
      "Paper...\n",
      "scissor...\n",
      "player2 wins...\n"
     ]
    }
   ],
   "source": [
    "print(\"Rock...\")\n",
    "print(\"Paper...\")\n",
    "print(\"scissor...\")\n",
    "\n",
    "player1=input(\"Player1,Make your move\")\n",
    "player2=input(\"Player2,Make your choice\")\n",
    "\n",
    "if player1==\"rock\" and player2==\"scissor\":\n",
    "    print(\"Player1 wins...\")\n",
    "elif player1==\"rock\" and player2==\"paper\":\n",
    "    print(\"player2 wins...\")\n",
    "elif player1==\"paper\" and player2==\"scissor\":\n",
    "    print(\"player2 wins...\")\n",
    " \n",
    "elif player1==\"scissor\" and player2==\"rock\":\n",
    "    print(\"Player1 wins...\")\n",
    "elif player1==\"paper\" and player2==\"rock\":\n",
    "    print(\"player2 wins...\")\n",
    "elif player1==\"scissor\" and player2==\"paper\":\n",
    "    print(\"player2 wins...\")   \n",
    "else:\n",
    "    print(\"something went wrong :(\")    "
   ]
  },
  {
   "cell_type": "code",
   "execution_count": 19,
   "metadata": {},
   "outputs": [
    {
     "output_type": "stream",
     "name": "stdout",
     "text": [
      "rock...\n",
      "paper...\n",
      "scisor...\n",
      "computer chosen : scissor\n",
      "player1 wins\n"
     ]
    }
   ],
   "source": [
    "import random\n",
    "\n",
    "print(\"rock...\")\n",
    "print(\"paper...\")\n",
    "print(\"scisor...\")\n",
    "\n",
    "player1=input(\"Hey there ,make your choice\").lower()\n",
    "\n",
    "num=random.randint(0,2)\n",
    "if num==0:\n",
    "    computer=\"rock\"\n",
    "elif num==1:\n",
    "    computer=\"paper\"\n",
    "else:\n",
    "     computer=\"scissor\"\n",
    "\n",
    "print(f\"computer chosen : {computer}\")\n",
    "\n",
    "if player1==computer:\n",
    "    print(\"its a tie...\")\n",
    "elif player1==\"rock\":\n",
    "    if computer==\"paper\":\n",
    "            print(\"computer wins\")\n",
    "    elif computer==\"scissor\":\n",
    "             print(\"player1 wins\")\n",
    "elif player1==\"paper\":\n",
    "    if computer==\"rock\":\n",
    "        print(\"player1 wins...\")\n",
    "    elif computer==\"scissor\":\n",
    "        print(\"computer wins...\")\n",
    "elif player1==\"scissor\":\n",
    "    if computer==\"rock\":\n",
    "        print(\"player1 wins...\")\n",
    "    elif computer==\"paper\":\n",
    "        print(\"computer wins...\")                                            \n",
    "else:\n",
    "    print(\"something went wrong\")\n"
   ]
  },
  {
   "cell_type": "code",
   "execution_count": null,
   "metadata": {},
   "outputs": [],
   "source": []
  }
 ]
}